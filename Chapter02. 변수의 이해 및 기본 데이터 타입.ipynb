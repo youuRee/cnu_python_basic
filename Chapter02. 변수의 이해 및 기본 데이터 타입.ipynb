{
 "cells": [
  {
   "cell_type": "markdown",
   "id": "fe8d1d60",
   "metadata": {},
   "source": [
    "## 변수와 기본 데이터 타입\n",
    "변수: 하나의 값을 저장할 수 있는 메모리 공간\n",
    "\n",
    "### 기본 데이터 타입\n",
    "- 숫자(number): int(정수), float(실수)\n",
    "- 문자열(string): 'Hello', \"Hi\"\n",
    "- 불(boolean): True, False\n",
    "\n",
    "### 대입연산자\n",
    "- =대입연산자, ==비교연산자(동등)\n",
    "- 대입연산자는 우측에 있는 값을 좌측에 대입\n",
    "\n",
    "### 변수 선언 및 값 대입\n",
    "```python\n",
    "name = \"체리링\"\n",
    "num = 100\n",
    "```"
   ]
  },
  {
   "cell_type": "code",
   "execution_count": 2,
   "id": "d0729efc",
   "metadata": {},
   "outputs": [
    {
     "name": "stdout",
     "output_type": "stream",
     "text": [
      "100\n"
     ]
    }
   ],
   "source": [
    "num = 50\n",
    "num = 100\n",
    "print(num)"
   ]
  },
  {
   "cell_type": "code",
   "execution_count": 4,
   "id": "378e3d65",
   "metadata": {},
   "outputs": [
    {
     "ename": "NameError",
     "evalue": "name 'true' is not defined",
     "output_type": "error",
     "traceback": [
      "\u001b[1;31m---------------------------------------------------------------------------\u001b[0m",
      "\u001b[1;31mNameError\u001b[0m                                 Traceback (most recent call last)",
      "\u001b[1;32m~\\AppData\\Local\\Temp/ipykernel_15420/19363728.py\u001b[0m in \u001b[0;36m<module>\u001b[1;34m\u001b[0m\n\u001b[0;32m      1\u001b[0m \u001b[0mname\u001b[0m \u001b[1;33m=\u001b[0m \u001b[1;34m\"chulwoong\"\u001b[0m\u001b[1;33m\u001b[0m\u001b[1;33m\u001b[0m\u001b[0m\n\u001b[1;32m----> 2\u001b[1;33m \u001b[0mflag\u001b[0m \u001b[1;33m=\u001b[0m \u001b[0mtrue\u001b[0m\u001b[1;33m\u001b[0m\u001b[1;33m\u001b[0m\u001b[0m\n\u001b[0m\u001b[0;32m      3\u001b[0m \u001b[0mpi\u001b[0m \u001b[1;33m=\u001b[0m \u001b[1;36m3.14\u001b[0m\u001b[1;33m\u001b[0m\u001b[1;33m\u001b[0m\u001b[0m\n\u001b[0;32m      4\u001b[0m \u001b[0mnum\u001b[0m \u001b[1;33m=\u001b[0m \u001b[1;36m500\u001b[0m\u001b[1;33m\u001b[0m\u001b[1;33m\u001b[0m\u001b[0m\n",
      "\u001b[1;31mNameError\u001b[0m: name 'true' is not defined"
     ]
    }
   ],
   "source": [
    "name = \"chulwoong\"\n",
    "flag = True\n",
    "pi = 3.14\n",
    "num = 500"
   ]
  },
  {
   "cell_type": "code",
   "execution_count": 5,
   "id": "b4235992",
   "metadata": {},
   "outputs": [
    {
     "name": "stdout",
     "output_type": "stream",
     "text": [
      "80\n"
     ]
    }
   ],
   "source": [
    "# 덧셈 계산기\n",
    "# -> 2개의 숫자를 입력받아서 덧셈을 하고 결과를 출력\n",
    "def calc_plus(num1, num2):\n",
    "    total = num1 + num2\n",
    "    print(total)\n",
    "    \n",
    "num1 = 30\n",
    "num2 = 50\n",
    "calc_plus(num1, num2)"
   ]
  },
  {
   "cell_type": "markdown",
   "id": "39942e6e",
   "metadata": {},
   "source": [
    "### comment(주석)\n",
    "- 주석으로 작성 된 부분은 프로그램에 어떤 영향도 주지 않음\n",
    "- 개발자(사람)가 보기 위한 용도로 사용"
   ]
  },
  {
   "cell_type": "code",
   "execution_count": null,
   "id": "6ec38280",
   "metadata": {},
   "outputs": [],
   "source": [
    "# 주석을 작성해보자.\n",
    "name = \"최철웅\"  # 이름\n",
    "students_num = 121513 # 학번"
   ]
  },
  {
   "cell_type": "markdown",
   "id": "bb7e772d",
   "metadata": {},
   "source": [
    "## print 함수\n",
    "- 함수란 특정 기능을 반복적으로 호출하여 사용가능한 코드 블럭\n",
    "- print함수: 해당 변수의 값을 출력\n",
    "- 콤마(,)로 여러 변수를 나열하면 한 줄에 입력 가능\n",
    "- 여러 변수 나열시 기본적으로는 한칸 띄어쓰기 후 출력\n",
    "- 빈줄을 입력하고 싶으면 print()를 사용하면 됨"
   ]
  },
  {
   "cell_type": "code",
   "execution_count": 3,
   "id": "936642f5",
   "metadata": {},
   "outputs": [
    {
     "name": "stdout",
     "output_type": "stream",
     "text": [
      "체리 8 abc\n"
     ]
    }
   ],
   "source": [
    "age = 8\n",
    "name = \"체리\"\n",
    "abc = \"abc\"\n",
    "print(name, age, abc)"
   ]
  },
  {
   "cell_type": "code",
   "execution_count": 5,
   "id": "b9eacdc7",
   "metadata": {},
   "outputs": [
    {
     "name": "stdout",
     "output_type": "stream",
     "text": [
      "Hello\n",
      "\n",
      "I'm Cherry:)\n"
     ]
    }
   ],
   "source": [
    "print(\"Hello\")\n",
    "print() # 한 줄 띄기\n",
    "print(\"I'm Cherry:)\")"
   ]
  },
  {
   "cell_type": "markdown",
   "id": "a034cd65",
   "metadata": {},
   "source": [
    "### variable naming(변수 이름 규칙)\n",
    "- 예약어(키워드)를 사용하면 안됨\n",
    "- 특수문자는 언더바(_)만 허용\n",
    "- 숫자로 시작하면 안됨\n",
    "- 공백을 포함할 수 없음\n",
    "\n",
    "- 대소문자 구별함\n",
    "- 일반적으로 해당 변수를 표현하고자 하는 정확하고 간결한 이름을 사용하는것이 원칙\n",
    "  - 코드의 가독성 향상\n",
    "  - e.g) a = 1000의 경우보다 student_num = 1000로 명시한 것이 변수에 대한 이해가 빠름"
   ]
  },
  {
   "cell_type": "code",
   "execution_count": 7,
   "id": "2c74df35",
   "metadata": {},
   "outputs": [
    {
     "name": "stdout",
     "output_type": "stream",
     "text": [
      "['False', 'None', 'True', 'and', 'as', 'assert', 'async', 'await', 'break', 'class', 'continue', 'def', 'del', 'elif', 'else', 'except', 'finally', 'for', 'from', 'global', 'if', 'import', 'in', 'is', 'lambda', 'nonlocal', 'not', 'or', 'pass', 'raise', 'return', 'try', 'while', 'with', 'yield']\n"
     ]
    }
   ],
   "source": [
    "# Python 예약어 확인\n",
    "import keyword\n",
    "print(keyword.kwlist)"
   ]
  },
  {
   "cell_type": "code",
   "execution_count": 8,
   "id": "eee747ac",
   "metadata": {},
   "outputs": [
    {
     "name": "stdout",
     "output_type": "stream",
     "text": [
      "cherry\n",
      "Tom\n"
     ]
    }
   ],
   "source": [
    "students_name = \"cherry\"\n",
    "ABC = \"Tom\"\n",
    "\n",
    "print(abc)\n",
    "print(ABC)"
   ]
  },
  {
   "cell_type": "markdown",
   "id": "acddc597",
   "metadata": {},
   "source": [
    "### Naming Method\n",
    "- snake_case: 소문자로 작성, 합성어는 _사용\n",
    "- CamelCase: 첫글자 대문자, 합성어 첫글자 대문자\n",
    "- Python은 snake_case와 CamelCase 모두 사용\n",
    "  - 변수: snake_case ex) student_num\n",
    "  - 메서드: snake_case ex) calc_sum()\n",
    "  - 클래스: CamelCase ex) BoardService\n",
    "  \n",
    "- snake_case는 변수와 함수에 사용\n",
    "- 변수와 함수의 구분은 ()가 있냐 없냐로 구분, ()가 있으면 함수\n",
    "- CamelCase는 Class에 사용\n",
    "- Python에서는 첫글자가 대문자면 무조건 CamelCase, 첫글자가 소문자면 snake_case"
   ]
  },
  {
   "cell_type": "code",
   "execution_count": null,
   "id": "6e3fe946",
   "metadata": {},
   "outputs": [],
   "source": [
    "# 학생 이름\n",
    "student_name_last # snake_case\n",
    "StudentNameLast # CamelCase"
   ]
  },
  {
   "cell_type": "code",
   "execution_count": null,
   "id": "2e5861ad",
   "metadata": {},
   "outputs": [],
   "source": [
    "print() # 클래스X, 변수X, 함수O"
   ]
  },
  {
   "cell_type": "code",
   "execution_count": null,
   "id": "2c19b044",
   "metadata": {},
   "outputs": [],
   "source": [
    "# 클래스, 변수, 함수 구분해보기\n",
    "# print()          => 함수\n",
    "# list()           => 함수\n",
    "# soup.select()    => 함수\n",
    "# math.pi          => 변수\n",
    "# math.e           => 변수\n",
    "# class Animal:    => 클래스\n",
    "# BeautifulSoup()  => 생성자 함수"
   ]
  },
  {
   "cell_type": "markdown",
   "id": "4a31437c",
   "metadata": {},
   "source": [
    "### 데이터 타입 확인(type 함수)\n",
    "> type() 함수를 사용하면 데이터의 자료형 확인 가능"
   ]
  },
  {
   "cell_type": "code",
   "execution_count": 9,
   "id": "7c32e6db",
   "metadata": {
    "scrolled": true
   },
   "outputs": [
    {
     "name": "stdout",
     "output_type": "stream",
     "text": [
      "<class 'int'>\n"
     ]
    }
   ],
   "source": [
    "a = 10 \n",
    "print(type(a))"
   ]
  },
  {
   "cell_type": "markdown",
   "id": "be09eb02",
   "metadata": {},
   "source": [
    "### None\n",
    "- 객체가 참조하고 있는 값이 없음을 의미\n",
    "- 일반적으로 변수를 선언만 할 때 많이 사용"
   ]
  },
  {
   "cell_type": "code",
   "execution_count": null,
   "id": "0ac259cf",
   "metadata": {},
   "outputs": [],
   "source": [
    "num = 100"
   ]
  },
  {
   "cell_type": "code",
   "execution_count": 13,
   "id": "b17a2508",
   "metadata": {},
   "outputs": [
    {
     "name": "stdout",
     "output_type": "stream",
     "text": [
      "None\n"
     ]
    }
   ],
   "source": [
    "abc_name = None\n",
    "\n",
    "print(abc_name)"
   ]
  },
  {
   "cell_type": "code",
   "execution_count": null,
   "id": "43fc8ef9",
   "metadata": {},
   "outputs": [],
   "source": [
    "name = 'cherry'\n",
    "name2 = 'cherry'\n",
    "name3 = 'cherry'\n",
    "name4 = 'tom'"
   ]
  },
  {
   "cell_type": "code",
   "execution_count": null,
   "id": "64be6132",
   "metadata": {},
   "outputs": [],
   "source": [
    "apple = None\n",
    "apple = 5\n",
    "apple = 0"
   ]
  },
  {
   "cell_type": "markdown",
   "id": "8516c84b",
   "metadata": {},
   "source": [
    "### comparison operator(비교 연산자)\n",
    "  - 프로그래밍에서는 비교를 할 경우, = 대신 **==**를 사용\n",
    "  - <, > (작다, 크다)\n",
    "  - <=, >= (작거나 같다, 크거나 같다)\n",
    "  - == 같다\n",
    "  - != 같지 않다\n",
    "  - 비교 연산자의 결과는 bool 타입"
   ]
  },
  {
   "cell_type": "code",
   "execution_count": 1,
   "id": "9d28db6f",
   "metadata": {},
   "outputs": [
    {
     "name": "stdout",
     "output_type": "stream",
     "text": [
      "True\n",
      "False\n",
      "True\n",
      "False\n",
      "False\n",
      "True\n"
     ]
    }
   ],
   "source": [
    "a = 5\n",
    "b = 4\n",
    "\n",
    "print(a > b) # True\n",
    "print(a < b) # False\n",
    "print(a >= b) # True\n",
    "print(a <= b) # False\n",
    "print(a == b) # False\n",
    "print(a != b) # True"
   ]
  },
  {
   "cell_type": "markdown",
   "id": "d232ccc1",
   "metadata": {},
   "source": [
    "#### **numbers (숫자형 타입)**\n",
    " - 정수, 실수로 구성\n",
    " - 수학의 기본 연산자(가감승제) 사용 가능"
   ]
  },
  {
   "cell_type": "code",
   "execution_count": 3,
   "id": "540e5a67",
   "metadata": {},
   "outputs": [
    {
     "data": {
      "text/plain": [
       "1"
      ]
     },
     "execution_count": 3,
     "metadata": {},
     "output_type": "execute_result"
    }
   ],
   "source": [
    "# 나누기(몫) => //\n",
    "# 나누기(나머지) => %\n",
    "# 나누기(/) => 소수점 포함\n",
    "\n",
    "5 % 2"
   ]
  },
  {
   "cell_type": "code",
   "execution_count": null,
   "id": "a236c008",
   "metadata": {},
   "outputs": [],
   "source": [
    "a = 5\n",
    "b = 4\n",
    "\n",
    "print(a + b) # 덧셈\n",
    "print(a * b) # 곱셈\n",
    "print(a - b) # 뺄셈\n",
    "print(a // b) # 나누기(몫)\n",
    "print(a % b) # 나누기(나머지)\n",
    "print(a ** b) # 제곱"
   ]
  },
  {
   "cell_type": "code",
   "execution_count": 2,
   "id": "cec36cb5",
   "metadata": {},
   "outputs": [
    {
     "name": "stdout",
     "output_type": "stream",
     "text": [
      "1.25\n"
     ]
    }
   ],
   "source": [
    "a = 5\n",
    "b = 4\n",
    "print(a / b)"
   ]
  },
  {
   "cell_type": "markdown",
   "id": "e2a5d5d7",
   "metadata": {},
   "source": [
    "#### **operator priorities (연산자 우선순위)**\n",
    "  - 기본적인 수학의 연산자와 동일\n",
    "  - 강제로 연산을 선수하기 위해선, 괄호()를 사용"
   ]
  },
  {
   "cell_type": "code",
   "execution_count": null,
   "id": "d237db1e",
   "metadata": {},
   "outputs": [],
   "source": [
    "a = 5\n",
    "b = 4\n",
    "\n",
    "print(a + b * 4)\n",
    "print((a + b) * 4)"
   ]
  },
  {
   "cell_type": "markdown",
   "id": "0d506d76",
   "metadata": {},
   "source": [
    "#### **형변환**\n",
    "- str(): 문자열 형변환\n",
    "- int(): 정수형 형변환\n",
    "- float(): 실수형 형변환\n",
    "> - int()와 float()에 문자열을 넣으면 Error 발생! 반드시 숫자만 사용\n",
    "> - 문자열 '3.14'를 float()로 형변환 가능, int로 형변환 불가"
   ]
  },
  {
   "cell_type": "code",
   "execution_count": 4,
   "id": "4cdd436c",
   "metadata": {},
   "outputs": [
    {
     "name": "stdout",
     "output_type": "stream",
     "text": [
      "<class 'int'>\n",
      "<class 'str'>\n",
      "<class 'float'>\n"
     ]
    }
   ],
   "source": [
    "# 가능\n",
    "a = 52 # int\n",
    "print(type(a))\n",
    "\n",
    "b = str(a)\n",
    "print(type(b))\n",
    "\n",
    "c = \"3.14\" # String\n",
    "print(type(float(c)))\n",
    "#     print(type(float(c)))\n",
    "#  => print(type(float(\"3.14\")))\n",
    "#  => print(type(3.14))\n",
    "#  => print('float')\n",
    "#  => 출력: 'float'"
   ]
  },
  {
   "cell_type": "code",
   "execution_count": 4,
   "id": "2e31032c",
   "metadata": {},
   "outputs": [
    {
     "data": {
      "text/plain": [
       "3"
      ]
     },
     "execution_count": 4,
     "metadata": {},
     "output_type": "execute_result"
    }
   ],
   "source": [
    "num = 3.14 # float\n",
    "\n",
    "int(num)"
   ]
  },
  {
   "cell_type": "code",
   "execution_count": 6,
   "id": "aea915d7",
   "metadata": {},
   "outputs": [
    {
     "data": {
      "text/plain": [
       "3.0"
      ]
     },
     "execution_count": 6,
     "metadata": {},
     "output_type": "execute_result"
    }
   ],
   "source": [
    "num = 3 # int\n",
    "\n",
    "float(num)"
   ]
  },
  {
   "cell_type": "code",
   "execution_count": 8,
   "id": "624fd8cc",
   "metadata": {},
   "outputs": [
    {
     "name": "stdout",
     "output_type": "stream",
     "text": [
      "3\n",
      "3.0\n"
     ]
    }
   ],
   "source": [
    "str = '3'\n",
    "\n",
    "print(int(str))\n",
    "print(float(str))"
   ]
  },
  {
   "cell_type": "code",
   "execution_count": 11,
   "id": "0e8ae59f",
   "metadata": {},
   "outputs": [
    {
     "name": "stdout",
     "output_type": "stream",
     "text": [
      "3.14\n"
     ]
    },
    {
     "ename": "ValueError",
     "evalue": "invalid literal for int() with base 10: '3.14'",
     "output_type": "error",
     "traceback": [
      "\u001b[1;31m---------------------------------------------------------------------------\u001b[0m",
      "\u001b[1;31mValueError\u001b[0m                                Traceback (most recent call last)",
      "\u001b[1;32m~\\AppData\\Local\\Temp/ipykernel_33912/4264587987.py\u001b[0m in \u001b[0;36m<module>\u001b[1;34m\u001b[0m\n\u001b[0;32m      1\u001b[0m \u001b[0mstr\u001b[0m \u001b[1;33m=\u001b[0m \u001b[1;34m'3.14'\u001b[0m\u001b[1;33m\u001b[0m\u001b[1;33m\u001b[0m\u001b[0m\n\u001b[0;32m      2\u001b[0m \u001b[0mprint\u001b[0m\u001b[1;33m(\u001b[0m\u001b[0mfloat\u001b[0m\u001b[1;33m(\u001b[0m\u001b[0mstr\u001b[0m\u001b[1;33m)\u001b[0m\u001b[1;33m)\u001b[0m\u001b[1;33m\u001b[0m\u001b[1;33m\u001b[0m\u001b[0m\n\u001b[1;32m----> 3\u001b[1;33m \u001b[0mprint\u001b[0m\u001b[1;33m(\u001b[0m\u001b[0mint\u001b[0m\u001b[1;33m(\u001b[0m\u001b[0mstr\u001b[0m\u001b[1;33m)\u001b[0m\u001b[1;33m)\u001b[0m\u001b[1;33m\u001b[0m\u001b[1;33m\u001b[0m\u001b[0m\n\u001b[0m",
      "\u001b[1;31mValueError\u001b[0m: invalid literal for int() with base 10: '3.14'"
     ]
    }
   ],
   "source": [
    "str = '3.14'\n",
    "print(float(str)) # 정상(3.14)\n",
    "print(int(str))   # Error"
   ]
  },
  {
   "cell_type": "code",
   "execution_count": 5,
   "id": "8b9e697c",
   "metadata": {},
   "outputs": [
    {
     "ename": "ValueError",
     "evalue": "could not convert string to float: 'cherry'",
     "output_type": "error",
     "traceback": [
      "\u001b[1;31m---------------------------------------------------------------------------\u001b[0m",
      "\u001b[1;31mValueError\u001b[0m                                Traceback (most recent call last)",
      "\u001b[1;32m~\\AppData\\Local\\Temp/ipykernel_14312/1723363077.py\u001b[0m in \u001b[0;36m<module>\u001b[1;34m\u001b[0m\n\u001b[0;32m      1\u001b[0m \u001b[0mname\u001b[0m \u001b[1;33m=\u001b[0m \u001b[1;34m'cherry'\u001b[0m\u001b[1;33m\u001b[0m\u001b[1;33m\u001b[0m\u001b[0m\n\u001b[1;32m----> 2\u001b[1;33m \u001b[0mfloat\u001b[0m\u001b[1;33m(\u001b[0m\u001b[0mname\u001b[0m\u001b[1;33m)\u001b[0m\u001b[1;33m\u001b[0m\u001b[1;33m\u001b[0m\u001b[0m\n\u001b[0m",
      "\u001b[1;31mValueError\u001b[0m: could not convert string to float: 'cherry'"
     ]
    }
   ],
   "source": [
    "name = 'cherry'\n",
    "float(name)"
   ]
  }
 ],
 "metadata": {
  "kernelspec": {
   "display_name": "Python 3 (ipykernel)",
   "language": "python",
   "name": "python3"
  },
  "language_info": {
   "codemirror_mode": {
    "name": "ipython",
    "version": 3
   },
   "file_extension": ".py",
   "mimetype": "text/x-python",
   "name": "python",
   "nbconvert_exporter": "python",
   "pygments_lexer": "ipython3",
   "version": "3.8.8"
  }
 },
 "nbformat": 4,
 "nbformat_minor": 5
}

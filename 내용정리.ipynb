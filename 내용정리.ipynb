{
 "cells": [
  {
   "cell_type": "markdown",
   "metadata": {},
   "source": [
    "+ 데이터 전처리\n",
    "1) 특징(학습 특징) / 라벨(정답) 데이터셋 생성\n",
    "2) Train / Test 분리\n",
    "3) 정규화 (단위 다른 데이터들을 동일한 기준으로 전처리)\n",
    "\n",
    "1. 지도학습\n",
    "- 회귀(K-최근법이웃 회귀(k 값들의 평균), 선형회귀(선))\n",
    "- 분류(K-최근접이웃 분류, 결정트리)\n",
    "\n",
    "2. 바지도학습\n",
    "- 클러스터링(군집)\n",
    "\n",
    "+ 딥러닝(CNN, RNN)"
   ]
  }
 ],
 "metadata": {
  "kernelspec": {
   "display_name": "Python 3",
   "language": "python",
   "name": "python3"
  },
  "language_info": {
   "codemirror_mode": {
    "name": "ipython",
    "version": 3
   },
   "file_extension": ".py",
   "mimetype": "text/x-python",
   "name": "python",
   "nbconvert_exporter": "python",
   "pygments_lexer": "ipython3",
   "version": "3.7.6"
  }
 },
 "nbformat": 4,
 "nbformat_minor": 4
}

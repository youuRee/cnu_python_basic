{
 "cells": [
  {
   "cell_type": "markdown",
   "metadata": {},
   "source": [
    "### 학습목표\n",
    " 1. module의 이해 및 module import 하기"
   ]
  },
  {
   "cell_type": "markdown",
   "metadata": {},
   "source": [
    "+ 파이썬은 모듈이라는 기능을 활용해 코드를 분리하고 공유함\n",
    "+ 모듈은 여러 변수와 함수를 가지고 있는 집합체로, 크게 '표준모듈'과 '외부 모듈'로 나뉜다.\n",
    "+ 파이썬에 기본적으로 내장되어 있는 모듈을 '표준모듈'이라고 한다.\n",
    "+ 다른 사람들이 만들어서 공개한 모듈을 '외부 모듈'이라고 한다.\n",
    "+ 일반적으로 모듈을 가져오는 import 구문은 코드 가장 위에 작성한다.\n",
    "+ 표준모듈이 궁금할 때는 '파이썬 공식 문서'를 확인 \n",
    "+ [파이썬 공식문서](https://docs.python.org/3/library/index.html)\n",
    "\n",
    "※ 파이썬의 모듈은 단순한 파이썬 파일이 아님. import 구문은 가장 먼저 현재 폴더에서 import 뒤에 적어 놓은 파일을 찾는다. 만약 하단의 코드와 같이 random 모듈을 import하고 파일이름을 random.py라고 생성하면 type 오류가 발생\n",
    "함. random.py라는 이름으로 파일을 저장하고 실행하면 실제 파이썬이 제공하는 random 모듈이 아니라, 같은 파일(random.py)을 읽어 문제가 발생, **따라서 모듈과 같은 이름으로 파일을 저장하지 않게 주의해야 함!!!!!!!**\n",
    "\n",
    "```python\n",
    "   # random.py로 저장\n",
    "   import random\n",
    "   print('# random 모듈 사용')\n",
    "```"
   ]
  },
  {
   "cell_type": "markdown",
   "metadata": {},
   "source": [
    "### **모듈 임포트**\n",
    " + 그동안 사용했던 함수들 처럼, 다양한 기능들이 미리 함수로 구현되어 모듈 형태로 제공\n",
    " + 대표적으로 추후 과정에서 사용하게 될 아래의 모듈들이 존재\n",
    "\n",
    " + requests - HTTP 요청/응답 모듈\n",
    " + numpy - 수치해석 모듈 \n",
    " + pandas - 데이터 분석 모듈\n",
    " + Beautifulsoup4, Scripy, Selenium - 웹 크롤링\n",
    " + ScikitLearn - 머신러닝\n",
    " + Matplotlib, Seaborn - 데이터 시각화\n",
    " + tensorflow, keras, PyTorch - 인공지능(AI)"
   ]
  },
  {
   "cell_type": "code",
   "execution_count": null,
   "metadata": {},
   "outputs": [],
   "source": []
  },
  {
   "cell_type": "markdown",
   "metadata": {},
   "source": [
    "#### import \n",
    " - import를 사용하여 해당 모듈 전체를 import"
   ]
  },
  {
   "cell_type": "code",
   "execution_count": 2,
   "metadata": {},
   "outputs": [],
   "source": []
  },
  {
   "cell_type": "code",
   "execution_count": 3,
   "metadata": {},
   "outputs": [
    {
     "data": {
      "text/plain": [
       "3.141592653589793"
      ]
     },
     "execution_count": 3,
     "metadata": {},
     "output_type": "execute_result"
    }
   ],
   "source": []
  },
  {
   "cell_type": "code",
   "execution_count": 4,
   "metadata": {},
   "outputs": [
    {
     "data": {
      "text/plain": [
       "0.8623188722876839"
      ]
     },
     "execution_count": 4,
     "metadata": {},
     "output_type": "execute_result"
    }
   ],
   "source": []
  },
  {
   "cell_type": "markdown",
   "metadata": {},
   "source": [
    "#### from import \n",
    " - 해당 모듈에서 특정한 타입만 import"
   ]
  },
  {
   "cell_type": "code",
   "execution_count": 5,
   "metadata": {},
   "outputs": [],
   "source": []
  },
  {
   "cell_type": "code",
   "execution_count": 6,
   "metadata": {},
   "outputs": [
    {
     "data": {
      "text/plain": [
       "0.8623188722876839"
      ]
     },
     "execution_count": 6,
     "metadata": {},
     "output_type": "execute_result"
    }
   ],
   "source": []
  },
  {
   "cell_type": "markdown",
   "metadata": {},
   "source": [
    "#### \\* 임포트\n",
    " - 해당 모듈내에 정의된 모든 것을 import\n",
    " - 일반적으로 사용이 권장되지 않음\n",
    " - 다른 모듈에 이름이 중복된 함수가 있을 수 있음(식별자 이름에서 충돌 발생 가능)"
   ]
  },
  {
   "cell_type": "code",
   "execution_count": null,
   "metadata": {},
   "outputs": [],
   "source": []
  },
  {
   "cell_type": "code",
   "execution_count": null,
   "metadata": {},
   "outputs": [],
   "source": []
  },
  {
   "cell_type": "code",
   "execution_count": null,
   "metadata": {},
   "outputs": [],
   "source": []
  },
  {
   "cell_type": "markdown",
   "metadata": {},
   "source": [
    "#### as \n",
    " - 모듈 import 시, alias(별명) 지정가능"
   ]
  },
  {
   "cell_type": "code",
   "execution_count": null,
   "metadata": {},
   "outputs": [],
   "source": []
  },
  {
   "cell_type": "markdown",
   "metadata": {},
   "source": [
    "#### sys 모듈"
   ]
  },
  {
   "cell_type": "code",
   "execution_count": null,
   "metadata": {},
   "outputs": [],
   "source": []
  },
  {
   "cell_type": "markdown",
   "metadata": {},
   "source": [
    "#### os 모듈"
   ]
  },
  {
   "cell_type": "code",
   "execution_count": null,
   "metadata": {},
   "outputs": [],
   "source": []
  },
  {
   "cell_type": "markdown",
   "metadata": {},
   "source": [
    "#### 라이브러리와 프레임워크\n",
    "+ 라이브러리(library): 정상적인 제어를 하는 모듈\n",
    "+ 프레임워크(framework): 제어 역전이 발생하는 모듈"
   ]
  },
  {
   "cell_type": "code",
   "execution_count": null,
   "metadata": {},
   "outputs": [],
   "source": []
  },
  {
   "cell_type": "markdown",
   "metadata": {},
   "source": [
    "#### 함수 데코레이터(decorator)\n",
    "+ @로 시작하는 구문을 파이썬에서는 '데코레이터'라고 부른다. = 꾸며주는 것\n",
    "+ 함수 데코레이터와 클래스 데코레이터로 나눈다.\n",
    "+ 함수 데코레이터는 함수의 앞 뒤에 꾸밀 부가적인 내용을, 혹은 반복할 내용을 데코레이터로 정의해서 손쉽게 사용할 수 있도록 한 것"
   ]
  },
  {
   "cell_type": "code",
   "execution_count": null,
   "metadata": {},
   "outputs": [],
   "source": []
  },
  {
   "cell_type": "code",
   "execution_count": null,
   "metadata": {},
   "outputs": [],
   "source": []
  },
  {
   "cell_type": "markdown",
   "metadata": {},
   "source": [
    "#### 모듈 만들기\n",
    "1. 파이썬 파일을 생성한다.\n",
    "2. 외부에서 생성한 파이썬 파일을 읽어 들인다.\n",
    "\n",
    "+ 추가적으로 모듈을 구조화해서 거대한 모듈(패키지)을 만드는 기능도 제공\n",
    "※ 너무 간단하고 유연해서 모듈을 코드로 인식하고 실행해 버리는 문제 등이 발생 할 수 있음"
   ]
  },
  {
   "cell_type": "markdown",
   "metadata": {},
   "source": [
    "#### 패키지\n",
    "+ pip = Python Package Index의 줄임말 = 패키지 관리 시스템\n",
    "+ 모듈이 모여서 구조를 이루면 패키지"
   ]
  },
  {
   "cell_type": "code",
   "execution_count": null,
   "metadata": {},
   "outputs": [],
   "source": []
  }
 ],
 "metadata": {
  "kernelspec": {
   "display_name": "Python 3",
   "language": "python",
   "name": "python3"
  },
  "language_info": {
   "codemirror_mode": {
    "name": "ipython",
    "version": 3
   },
   "file_extension": ".py",
   "mimetype": "text/x-python",
   "name": "python",
   "nbconvert_exporter": "python",
   "pygments_lexer": "ipython3",
   "version": "3.7.3"
  }
 },
 "nbformat": 4,
 "nbformat_minor": 4
}

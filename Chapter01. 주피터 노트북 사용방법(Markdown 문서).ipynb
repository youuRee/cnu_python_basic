{
 "cells": [
  {
   "cell_type": "markdown",
   "metadata": {},
   "source": [
    "## 1.주피터 노트북은 Cell을 만들어서 사용한다.\n",
    "- 입력모드(녹색 테두리): 사용자가 Cell에 커서를 갖다대면 타이핑을 할 수 있음\n",
    "- 명령모드(파랑 테두리): 입력모드에서 ESC키를 입력하면 파랑테두리로 변함\n",
    "  \n",
    "명령모드에서 h를 누르면 Help로 주피터 노트북의 단축키를 보여준다."
   ]
  },
  {
   "cell_type": "markdown",
   "metadata": {},
   "source": [
    "## 2.Cell Type\n",
    "- 상단 Nav 메뉴에서 [Cell] - [Cell Type]로 변경 가능\n",
    "- 명령모드에서 m을 누르면 Markdown Type으로 변경\n",
    "- 명령모드에서 y를 누르면 Code Type으로 변경"
   ]
  },
  {
   "cell_type": "markdown",
   "metadata": {},
   "source": [
    "## 3.Markdown 명령어\n",
    "\n",
    "### 3.1 Title  만들기(#개수가 적을수록 크기가 커짐: 1~6개)\n",
    "\n",
    "# Hello Python\n",
    "## Hello Python\n",
    "### Hello Python\n",
    "#### Hello Python\n",
    "##### Hello Python\n",
    "###### Hello Python"
   ]
  },
  {
   "cell_type": "markdown",
   "metadata": {},
   "source": [
    "## 3.2 진하게 만들기\n",
    "- 단어 앞 뒤에 **입력\n",
    "\n",
    "**python** is really cool"
   ]
  },
  {
   "cell_type": "markdown",
   "metadata": {},
   "source": [
    "## 3.3 이텔릭체 만들기\n",
    "- 단어 앞 뒤에 *입력\n",
    "\n",
    "python is really *cool*"
   ]
  },
  {
   "cell_type": "markdown",
   "metadata": {},
   "source": [
    "## 3.4 순서없는 list 만들기\n",
    "- Chapter1\n",
    "- Chapter2\n",
    "  - Chapter2-1\n",
    "    - Chapter2-1-1"
   ]
  },
  {
   "cell_type": "markdown",
   "metadata": {},
   "source": [
    "## 3.5 순서있는 list 만들기\n",
    "1. Chapter1\n",
    "2. Chapter2\n",
    "3. Chapter3"
   ]
  },
  {
   "cell_type": "markdown",
   "metadata": {},
   "source": [
    "## 3.6 인용구 만들기\n",
    "\n",
    "> 파이썬은 재밌다.  "
   ]
  },
  {
   "cell_type": "markdown",
   "metadata": {},
   "source": [
    "## 3.7 수식 표현하기\n",
    "\n",
    "$y=3x$"
   ]
  },
  {
   "cell_type": "markdown",
   "metadata": {},
   "source": [
    "## 3.8 파이썬 코드 표현하기\n",
    "\n",
    "```python\n",
    "name = \"체리링\"\n",
    "print(name)\n",
    "```"
   ]
  },
  {
   "cell_type": "markdown",
   "metadata": {},
   "source": [
    "## 3.9 하이퍼링크 만들기\n",
    "\n",
    "[파이썬 다운로드](https://www.python.org)"
   ]
  }
 ],
 "metadata": {
  "kernelspec": {
   "display_name": "Python 3 (ipykernel)",
   "language": "python",
   "name": "python3"
  },
  "language_info": {
   "codemirror_mode": {
    "name": "ipython",
    "version": 3
   },
   "file_extension": ".py",
   "mimetype": "text/x-python",
   "name": "python",
   "nbconvert_exporter": "python",
   "pygments_lexer": "ipython3",
   "version": "3.8.8"
  }
 },
 "nbformat": 4,
 "nbformat_minor": 2
}
